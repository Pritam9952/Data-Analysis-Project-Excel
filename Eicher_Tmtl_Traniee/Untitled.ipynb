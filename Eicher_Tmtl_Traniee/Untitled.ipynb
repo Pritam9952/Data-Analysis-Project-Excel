{
 "cells": [
  {
   "cell_type": "code",
   "execution_count": 1,
   "id": "e1373c3b-8a04-487b-b9e4-9a4d6b7820a1",
   "metadata": {},
   "outputs": [
    {
     "name": "stdout",
     "output_type": "stream",
     "text": [
      "Hello! Welcome to my data analysis project\n"
     ]
    }
   ],
   "source": [
    "print(\"Hello! Welcome to my data analysis project\")"
   ]
  },
  {
   "cell_type": "code",
   "execution_count": 2,
   "id": "1d5e1425-b84d-422f-a1ef-fd2a6ba2473b",
   "metadata": {},
   "outputs": [],
   "source": [
    "import pandas as pd\n",
    "import matplotlib.pyplot as plt\n",
    "import seaborn as sns"
   ]
  },
  {
   "cell_type": "code",
   "execution_count": 17,
   "id": "e2ecb549-9368-42bf-ab6d-d015e0a76825",
   "metadata": {},
   "outputs": [],
   "source": [
    "data_path = \"E:/Computer Programming/CSV_FILES_FOLDER/Eicher/Final_Defect_Analysis_Project.xlsx\"\n",
    "df = pd.read_excel(data_path,sheet_name=\"Scratch Data\")"
   ]
  },
  {
   "cell_type": "code",
   "execution_count": 18,
   "id": "18825174-659e-46ce-93ff-74e0afabe65c",
   "metadata": {},
   "outputs": [
    {
     "name": "stdout",
     "output_type": "stream",
     "text": [
      "DataSet Previev:\n",
      "  QC5 - Scratch Report Data Sheet Unnamed: 1      Unnamed: 2   Unnamed: 3  \\\n",
      "0                             NaN        NaN             NaN          NaN   \n",
      "1                            Date      Model  Chassis Number  Defect Type   \n",
      "2             2024-05-18 00:00:00        368           55562      Scratch   \n",
      "3             2024-05-18 00:00:00        333           55615      Scratch   \n",
      "4             2024-05-20 00:00:00        242           55808      Scratch   \n",
      "\n",
      "     Unnamed: 4    Unnamed: 5  Unnamed: 6  Unnamed: 7  Unnamed: 8  \\\n",
      "0           NaN           NaN         NaN         NaN         NaN   \n",
      "1      Location  Vehical Type         NaN         NaN         NaN   \n",
      "2   MudGuard RH          ES 3         NaN         NaN         NaN   \n",
      "3  Fuel Tank RH        Normal         NaN         NaN         NaN   \n",
      "4  Fuel Tank RH        Normal         NaN         NaN         NaN   \n",
      "\n",
      "  Filter data based on Vehical Type Unnamed: 10     Unnamed: 11  Unnamed: 12  \\\n",
      "0                               NaN         NaN             NaN          NaN   \n",
      "1                      Vehical Type         NaN          Normal  Entry Count   \n",
      "2                              Date       Model  Chassis Number  Defect Type   \n",
      "3               2024-05-18 00:00:00         333           55615      Scratch   \n",
      "4               2024-05-20 00:00:00         242           55808      Scratch   \n",
      "\n",
      "    Unnamed: 13   Unnamed: 14  \n",
      "0           NaN           NaN  \n",
      "1           NaN             8  \n",
      "2      Location  Vehical Type  \n",
      "3  Fuel Tank RH        Normal  \n",
      "4  Fuel Tank RH        Normal  \n"
     ]
    }
   ],
   "source": [
    "print(\"DataSet Previev:\")\n",
    "print(df.head())"
   ]
  },
  {
   "cell_type": "code",
   "execution_count": 19,
   "id": "d80ebbcd-7d49-41ef-9ab5-2faf490536cf",
   "metadata": {},
   "outputs": [
    {
     "name": "stdout",
     "output_type": "stream",
     "text": [
      "\n",
      "Columns in Data\n",
      "Index(['QC5 - Scratch Report Data Sheet', 'Unnamed: 1', 'Unnamed: 2',\n",
      "       'Unnamed: 3', 'Unnamed: 4', 'Unnamed: 5', 'Unnamed: 6', 'Unnamed: 7',\n",
      "       'Unnamed: 8', 'Filter data based on Vehical Type', 'Unnamed: 10',\n",
      "       'Unnamed: 11', 'Unnamed: 12', 'Unnamed: 13', 'Unnamed: 14'],\n",
      "      dtype='object')\n"
     ]
    }
   ],
   "source": [
    "df.columns = [col.strip() for col in df.columns]\n",
    "print(\"\\nColumns in Data\")\n",
    "print(df.columns)"
   ]
  },
  {
   "cell_type": "code",
   "execution_count": 20,
   "id": "d0bc94df-7c44-4222-bc2e-3c12aa8edd33",
   "metadata": {},
   "outputs": [],
   "source": [
    "if 'Model Number' in df.columns and 'Count of Scratch' in df.columns:\n",
    "    model_counts = df.groupby('Model Number')['Count Of Scratch'].sum().sort_values(ascending=False)\n",
    "    plt.figure(figsize=(10,6))\n",
    "    sns.barplot(x=model_counts.index.astype(str), y = model_counts.values, palette=\"viridis\")\n",
    "    plt.title('Total Scratches Per Model Number')\n",
    "    plt.xlabel('Model Number')\n",
    "    plt.ylabel('Total Scratches')\n",
    "    plt.xticks(rotation=45)\n",
    "    plt.tight_layout()\n",
    "    plt.show()"
   ]
  },
  {
   "cell_type": "code",
   "execution_count": 12,
   "id": "c832d078-3569-4661-9114-4200286aa2c2",
   "metadata": {},
   "outputs": [],
   "source": [
    "if 'Scratch Type' in df.columns:\n",
    "    position_counts = df['Scratch Type'].value_counts()\n",
    "    plt.figure(figsize=(10,6))\n",
    "    sns.barplot(x=position_counts.index, y = postion_counts.values, palette=\"magma\")\n",
    "    plt.title('Total Scratches Per Model Number')\n",
    "    plt.xlabel('Model Number')\n",
    "    plt.ylabel('Total Scratches')\n",
    "    plt.xticks(rotation=45)\n",
    "    plt.tight_layout()\n",
    "    plt.show()"
   ]
  }
 ],
 "metadata": {
  "kernelspec": {
   "display_name": "Python 3 (ipykernel)",
   "language": "python",
   "name": "python3"
  },
  "language_info": {
   "codemirror_mode": {
    "name": "ipython",
    "version": 3
   },
   "file_extension": ".py",
   "mimetype": "text/x-python",
   "name": "python",
   "nbconvert_exporter": "python",
   "pygments_lexer": "ipython3",
   "version": "3.13.3"
  }
 },
 "nbformat": 4,
 "nbformat_minor": 5
}
